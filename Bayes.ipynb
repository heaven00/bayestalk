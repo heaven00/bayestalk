{
 "cells": [
  {
   "cell_type": "markdown",
   "metadata": {},
   "source": [
    "## Baye's Formula\n",
    "\n",
    "                                P(A|B) = P(B|A)*P(A) / P(B)"
   ]
  },
  {
   "cell_type": "markdown",
   "metadata": {},
   "source": [
    "*Before we begin some of the terms : -*\n",
    "\n",
    "##### Distribution\n",
    "A representation \n",
    "\n",
    "##### Probabiliy Mass Function\n",
    "Given a Hypothesis h, the function returns its probability. This basically maps each hypothesis (or a possible event) to its\n",
    "probability, which exactly what we did in the last notebook, while defining the prior.\n",
    "\n",
    "    prior = {1: 1/6.0, \n",
    "             2: 1/6.0,\n",
    "             3: 1/6.0,\n",
    "             4: 1/6.0,\n",
    "             5: 1/6.0,\n",
    "             6: 1/6.0}\n",
    "\n",
    "##### Prior\n",
    "The belief that we have before seeing the data is called a prior. It is represented by a distribution.\n",
    "\n",
    "##### Bayesian Update\n",
    "When we alter our belief by multiplying the likelihood with our prior is known as a bayesian update.\n",
    "\n",
    "##### Posterior \n",
    "The distribution that we get after bayesian update is called a posterior.\n",
    "\n",
    "We won't be implementing it here, instead we are going to use the pmf object defined by prof. Alen b. downey author of ThinkBayes. I will explain some of the helpful functions that he has added as we go."
   ]
  },
  {
   "cell_type": "code",
   "execution_count": 2,
   "metadata": {},
   "outputs": [],
   "source": [
    "%matplotlib inline\n",
    "\n",
    "from thinkbayes2 import Pmf\n",
    "import matplotlib.pyplot as plt"
   ]
  },
  {
   "cell_type": "markdown",
   "metadata": {},
   "source": [
    "Now let's define a dice using the Pmf class\n",
    "\n",
    "The Pmf class inherits the dict class, so you can manipulate it as a key value store"
   ]
  },
  {
   "cell_type": "code",
   "execution_count": 3,
   "metadata": {
    "collapsed": true
   },
   "outputs": [],
   "source": [
    "# Creating a 6 sided Dice, by default pmf assumes all the events are equally probable.\n",
    "six_sided_dice = Pmf(range(1,7))"
   ]
  },
  {
   "cell_type": "code",
   "execution_count": 4,
   "metadata": {},
   "outputs": [
    {
     "name": "stdout",
     "output_type": "stream",
     "text": [
      "1 0.16666666666666666\n",
      "2 0.16666666666666666\n",
      "3 0.16666666666666666\n",
      "4 0.16666666666666666\n",
      "5 0.16666666666666666\n",
      "6 0.16666666666666666\n"
     ]
    }
   ],
   "source": [
    "# print shows you the probability of all the hypothesis. \n",
    "six_sided_dice.Print()"
   ]
  },
  {
   "cell_type": "code",
   "execution_count": 5,
   "metadata": {},
   "outputs": [
    {
     "data": {
      "text/plain": [
       "0.16666666666666666"
      ]
     },
     "execution_count": 5,
     "metadata": {},
     "output_type": "execute_result"
    }
   ],
   "source": [
    "# This will give you the probability of 1\n",
    "six_sided_dice[1]"
   ]
  },
  {
   "cell_type": "code",
   "execution_count": 6,
   "metadata": {},
   "outputs": [
    {
     "data": {
      "image/png": "[encoded data removed]",
      "text/plain": [
       "<matplotlib.figure.Figure at 0x7f92f7a3d2e8>"
      ]
     },
     "metadata": {},
     "output_type": "display_data"
    }
   ],
   "source": [
    "def plot_pmf(pmf, xlabel='x', ylabel='y'):\n",
    "    \"\"\"A ploting helper function to plot the pmf values.\"\"\"\n",
    "    x, y = list(pmf.Render())\n",
    "    plt.bar(x, y, align='center')\n",
    "    plt.xticks(x)\n",
    "    \n",
    "plot_pmf(six_sided_dice)"
   ]
  },
  {
   "cell_type": "markdown",
   "metadata": {},
   "source": [
    "### The Die Problem\n",
    "\n",
    "We have 4 die 6 sided, 8 sided, 16 sided and 20 sided. Suppose I select a die, roll it, and get a 8. What is the probability that I rolled each die ?\n",
    "\n",
    "Objective: Calculate the probability for each dice. Given that I rolled a 8"
   ]
  },
  {
   "cell_type": "markdown",
   "metadata": {},
   "source": [
    "First step, Set our belief(Prior). Lets take a uniform distribution as prior .i.e. all dices are equally probable"
   ]
  },
  {
   "cell_type": "code",
   "execution_count": 7,
   "metadata": {},
   "outputs": [
    {
     "name": "stdout",
     "output_type": "stream",
     "text": [
      "6 0.25\n",
      "8 0.25\n",
      "16 0.25\n",
      "20 0.25\n"
     ]
    }
   ],
   "source": [
    "# Create a pmf object representing our belief\n",
    "box = Pmf([6, 8, 16, 20])\n",
    "box.Print()"
   ]
  },
  {
   "cell_type": "markdown",
   "metadata": {},
   "source": [
    "We have observed that the dice roll gave us 8.\n",
    "So the second step is to update our prior, using \n",
    "        P(B|A)*P(A)\n",
    "        \n",
    "P(A) is our prior and P(B|A) in this case would be :-\n",
    "        \n",
    "        Probability of dice being the N sided die, given that we rolled a 8\n",
    "\n",
    "Similarly we will emulate this Update for all the hypothesis/die"
   ]
  },
  {
   "cell_type": "code",
   "execution_count": 8,
   "metadata": {},
   "outputs": [],
   "source": [
    "# Exercise 2.1 Calculate P(B|A)\n",
    "box[6] *=\n",
    "box[8] *=\n",
    "box[16] *=\n",
    "box[20] *="
   ]
  },
  {
   "cell_type": "code",
   "execution_count": null,
   "metadata": {},
   "outputs": [],
   "source": [
    "box.Normalize()\n",
    "box.Print()"
   ]
  },
  {
   "cell_type": "markdown",
   "metadata": {},
   "source": [
    "Now, lets try out multiple dice rolls. But first to make it simpler lets break the process down into functions"
   ]
  },
  {
   "cell_type": "markdown",
   "metadata": {},
   "source": [
    "\n",
    "### The Bayesian framework\n",
    "\n",
    "Here's the same computation encapsulated in a class.\n"
   ]
  },
  {
   "cell_type": "code",
   "execution_count": 19,
   "metadata": {},
   "outputs": [],
   "source": [
    "class Die(Pmf):\n",
    "    \"\"\"A map from string bowl ID to probablity.\"\"\"\n",
    "\n",
    "    def __init__(self, hypos):\n",
    "        \"\"\"\n",
    "        Initialize with a prior.\n",
    "\n",
    "        hypos: sequence of hypothesis/possible outcomes.\n",
    "        In our case it would be sides of the die\n",
    "        \"\"\"\n",
    "        Pmf.__init__(self)\n",
    "        # set a uniform prior\n",
    "        for hypo in hypos:\n",
    "            self.Set(hypo, 1)\n",
    "        self.Normalize()\n",
    "\n",
    "    def Update(self, data):\n",
    "        \"\"\"\n",
    "        Updates the PMF with new data.\n",
    "\n",
    "        data: roll of the randomly choosen dice.\n",
    "        \"\"\"\n",
    "        for hypo in self.Values():\n",
    "            like = self.Likelihood(data, hypo)\n",
    "            self.Mult(hypo, like)\n",
    "        self.Normalize()\n",
    "\n",
    "    def Likelihood(self, data, hypo):\n",
    "        \"\"\"\n",
    "        The likelihood of the data under the hypothesis.\n",
    "        \n",
    "        What is the probability of seeing the data for the given hypothesis.\n",
    "        P(D|H)\n",
    "        \"\"\"\n",
    "        if hypo < data:\n",
    "            return 0\n",
    "        else:\n",
    "            return 1 / float(hypo)"
   ]
  },
  {
   "cell_type": "code",
   "execution_count": 30,
   "metadata": {},
   "outputs": [
    {
     "name": "stdout",
     "output_type": "stream",
     "text": [
      "4 0.0\n",
      "6 0.0\n",
      "8 0.0\n",
      "16 0.792302621570914\n",
      "20 0.2076973784290858\n"
     ]
    },
    {
     "data": {
      "image/png": "[encoded data removed]",
      "text/plain": [
       "<matplotlib.figure.Figure at 0x21add1eb5c0>"
      ]
     },
     "metadata": {},
     "output_type": "display_data"
    }
   ],
   "source": [
    "# Exercise 2.2 Play around the rolls array and dice input, to develop an intuition on how the numbers are changing.\n",
    "box = Die([4,6,8,16,20])\n",
    "rolls = [5, 6, 3, 1, 10, 15]\n",
    "\n",
    "for roll in rolls:\n",
    "    box.Update(roll)\n",
    "    \n",
    "box.Print()\n",
    "plot_pmf(box)"
   ]
  },
  {
   "cell_type": "markdown",
   "metadata": {},
   "source": [
    "### To summarize the cycle **Baye's with pmf** follow the following steps :- \n",
    "\n",
    "1. Build a pmf that maps all the hypothesis to a prior probability, P(A)\n",
    "2. Multiply each prior probability with the likelihood, P(B|A) * P(A)\n",
    "3. Normalize, divide by the total probability of the data, divide by P(B)\n"
   ]
  },
  {
   "cell_type": "markdown",
   "metadata": {},
   "source": [
    "**Lets do another problem, just to be doubly sure.**\n",
    "\n",
    "### The cookie Problem\n",
    "\n",
    "You might remember something similar from textbooks or any other introductory bayes class.\n",
    "\n",
    "Suppose there are 2 Jars, 1 with 20 vanilla and 30 chocolate cookies and another with 10 vanilla and 40 Chocolate cookies.\n",
    "If we choose a jar at random and take out 1 cookie and that cookie is chocolate. \n",
    "What is the probability that it came from jar 2?"
   ]
  },
  {
   "cell_type": "code",
   "execution_count": 14,
   "metadata": {
    "collapsed": true
   },
   "outputs": [],
   "source": [
    "class Cookie(Pmf):\n",
    "    \"\"\"A map from string jar ID to probablity.\"\"\"\n",
    "\n",
    "    def __init__(self, hypos):\n",
    "        \"\"\"\n",
    "        Initialize with a uniform prior .i.e. both jars are equally likely.\n",
    "\n",
    "        hypos: list of hypothesis, represented by jar ids. \n",
    "        \"\"\"\n",
    "        Pmf.__init__(self)\n",
    "        for hypo in hypos:\n",
    "            self.Set(hypo, 1)\n",
    "        self.Normalize()\n",
    "\n",
    "    def Update(self, data):\n",
    "        \"\"\"\n",
    "        Updates the PMF with new data.\n",
    "\n",
    "        data: string of the cookie type taken out.\n",
    "        \"\"\"\n",
    "        for hypo in self.Values():\n",
    "            like = self.Likelihood(data, hypo)\n",
    "            self.Mult(hypo, like)\n",
    "        self.Normalize()\n",
    "\n",
    "    mixes = {\n",
    "        'jar 1':dict(vanilla=0.4, chocolate=0.6),\n",
    "        # Fill in the probabilities for jar 2\n",
    "        'jar 2':dict(vanilla=0., chocolate=0.),\n",
    "        }\n",
    "\n",
    "    def Likelihood(self, data, hypo):\n",
    "        \"\"\"\n",
    "        The likelihood of the data under the hypothesis.\n",
    "\n",
    "        data: string cookie type\n",
    "        hypo: jar id\n",
    "        \"\"\"\n",
    "        # Exercise 2.3 Write the likelihood function for the problem and replace return 0 with the likelihood\n",
    "        \n",
    "        return 1"
   ]
  },
  {
   "cell_type": "code",
   "execution_count": 15,
   "metadata": {},
   "outputs": [
    {
     "name": "stdout",
     "output_type": "stream",
     "text": [
      "jar 1 0.5\n",
      "jar 2 0.5\n"
     ]
    }
   ],
   "source": [
    "jars = Cookie(['jar 1', 'jar 2'])\n",
    "jars.Update('vanilla')\n",
    "jars.Print()"
   ]
  },
  {
   "cell_type": "markdown",
   "metadata": {},
   "source": [
    "Exercise 2.5 Now, try updating multiple times and see how your posterior changes"
   ]
  },
  {
   "cell_type": "code",
   "execution_count": 39,
   "metadata": {
    "collapsed": true
   },
   "outputs": [],
   "source": [
    "# solution here"
   ]
  },
  {
   "cell_type": "markdown",
   "metadata": {},
   "source": [
    "**Food for thought**: So, can you guys relate the process with tasks of our daily life ?"
   ]
  }
 ],
 "metadata": {
  "anaconda-cloud": {},
  "kernelspec": {
   "display_name": "Python 3",
   "language": "python",
   "name": "python3"
  },
  "language_info": {
   "codemirror_mode": {
    "name": "ipython",
    "version": 3
   },
   "file_extension": ".py",
   "mimetype": "text/x-python",
   "name": "python",
   "nbconvert_exporter": "python",
   "pygments_lexer": "ipython3",
   "version": "3.6.1"
  }
 },
 "nbformat": 4,
 "nbformat_minor": 1
}
