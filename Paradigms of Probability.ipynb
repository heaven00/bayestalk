{
 "cells": [
  {
   "cell_type": "markdown",
   "metadata": {
    "nbpresent": {
     "id": "3f04c9b3-5286-43c8-aeb5-f9a7c971d28f"
    }
   },
   "source": [
    "Let's discuss the three Paradigms of Probability\n",
    "================================================\n",
    "\n",
    "###### we are going to use a 6 sided Dice as our assistant to understand them."
   ]
  },
  {
   "cell_type": "code",
   "execution_count": 8,
   "metadata": {
    "collapsed": true,
    "nbpresent": {
     "id": "2e922e6a-885c-4e3d-a5f6-0668f7c05a28"
    }
   },
   "outputs": [],
   "source": [
    "from random import choice\n",
    "import pandas as pd\n",
    "import matplotlib.pyplot as plt\n",
    "\n",
    "%matplotlib inline"
   ]
  },
  {
   "cell_type": "code",
   "execution_count": 9,
   "metadata": {
    "nbpresent": {
     "id": "5e02b86c-d389-431b-a0fa-462e767a26fe"
    }
   },
   "outputs": [],
   "source": [
    "class Dice():\n",
    "    \"\"\"\"Initiate a N sided dice\"\"\"\n",
    "    def __init__(self, n):\n",
    "        # python excludes the last number thus n+1\n",
    "        self.sides = range(1, n+1)\n",
    "    \n",
    "    def roll(self):\n",
    "        return choice(self.sides)"
   ]
  },
  {
   "cell_type": "markdown",
   "metadata": {
    "nbpresent": {
     "id": "35234389-a876-482c-8bf6-e414bc787371"
    }
   },
   "source": [
    "## 1. Classical"
   ]
  },
  {
   "cell_type": "markdown",
   "metadata": {
    "nbpresent": {
     "id": "b795ad65-5933-4d7f-9fbf-8c2c6344b9fb"
    }
   },
   "source": [
    "Classical probability is definded by \n",
    "\n",
    "        favourable outcomes by total number of outcomes.\n",
    "        \n",
    "Fairly easy to compute.\n",
    "\n",
    "***Probability of getting a 4 = 1/6***"
   ]
  },
  {
   "cell_type": "markdown",
   "metadata": {
    "nbpresent": {
     "id": "a1f5d34e-351c-4327-b917-f5203d9205bb"
    }
   },
   "source": [
    "## 2. Frequentist\n",
    "\n",
    "Frequentists measure the probability of an event happening based on the number of times that event has occured from the total obeserved frequency\n",
    "\n",
    "So, lets roll the 6 sided dice 10 times"
   ]
  },
  {
   "cell_type": "code",
   "execution_count": 10,
   "metadata": {
    "nbpresent": {
     "id": "c30cdd07-9d84-4419-bf48-f1fa70223b1a"
    }
   },
   "outputs": [],
   "source": [
    "# Emulate Dice rolls\n",
    "six_sided_dice = Dice(6)\n",
    "num_rolls = 10\n",
    "\n",
    "rolls = [six_sided_dice.roll() for _ in range(num_rolls)]"
   ]
  },
  {
   "cell_type": "markdown",
   "metadata": {
    "nbpresent": {
     "id": "6c327ea3-b495-45c7-a9b6-eea042d06ae3"
    }
   },
   "source": [
    "Let's view the probability of all the sides of the dice"
   ]
  },
  {
   "cell_type": "code",
   "execution_count": 11,
   "metadata": {
    "collapsed": true,
    "nbpresent": {
     "id": "3f065922-0673-49c3-90d6-86dedeccd4ac"
    }
   },
   "outputs": [],
   "source": [
    "def frequentist_prob(n, rolls):\n",
    "    \"\"\"Calculate the frequentist probability of an event of rolling n given m number of rolls.\"\"\"\n",
    "    return rolls.count(n)/len(rolls)"
   ]
  },
  {
   "cell_type": "code",
   "execution_count": 12,
   "metadata": {
    "nbpresent": {
     "id": "bc939df6-93bb-4b84-85b7-4c559ea1c0e9"
    }
   },
   "outputs": [],
   "source": [
    "freq_prob = {side:frequentist_prob(side, rolls) for side in six_sided_dice.sides} "
   ]
  },
  {
   "cell_type": "code",
   "execution_count": 14,
   "metadata": {
    "nbpresent": {
     "id": "388f77b8-6722-4e76-b700-07ba567fbf5d"
    }
   },
   "outputs": [
    {
     "data": {
      "image/png": "[encoded data removed]",
      "text/plain": [
       "<matplotlib.figure.Figure at 0x18fbc422f60>"
      ]
     },
     "metadata": {},
     "output_type": "display_data"
    }
   ],
   "source": [
    "# Lets plot it for simplicity\n",
    "def plot_prob_distribution(freq_prob):\n",
    "    \"\"\"Plot the probability distribution.\"\"\"\n",
    "    plt.bar(range(len(freq_prob)), freq_prob.values(), align='center')\n",
    "    plt.xticks(range(len(freq_prob)), list(freq_prob.keys()))\n",
    "    plt.xlabel(\"Sides\")\n",
    "    plt.ylabel(\"Probabilities\")\n",
    "    plt.show()\n",
    "\n",
    "plot_prob_distribution(freq_prob)"
   ]
  },
  {
   "cell_type": "markdown",
   "metadata": {
    "collapsed": true
   },
   "source": [
    "#### Exercise 1. \n",
    "\n",
    "Try out with different number of rolls."
   ]
  },
  {
   "cell_type": "code",
   "execution_count": 15,
   "metadata": {
    "collapsed": true
   },
   "outputs": [],
   "source": [
    "# Solution here"
   ]
  },
  {
   "cell_type": "code",
   "execution_count": 16,
   "metadata": {
    "collapsed": true
   },
   "outputs": [],
   "source": [
    "# Solution here"
   ]
  },
  {
   "cell_type": "code",
   "execution_count": 17,
   "metadata": {
    "collapsed": true
   },
   "outputs": [],
   "source": [
    "# Solution Here"
   ]
  },
  {
   "cell_type": "markdown",
   "metadata": {},
   "source": [
    "## 2. Bayesian\n",
    "\n",
    "Bayesian approach is also known as \"*subjective probability*\", its represented by the formula : -\n",
    "\n",
    "\n",
    "                P(A|B) = P(B|A)*P(A) / P(B)\n",
    "\n",
    "        - P(A|B) is interpreted as proabbility of event A given that event B occurs, similarly P(B|A).\n",
    "        - P(B|A)*P(A) can be interpreted as a 'update' that you do to your existing probability P(A) with the \n",
    "          likelihood P(B|A)\n",
    "          (P.S. don't worry if this doesn't make much sense rite now.)\n",
    "        \n",
    "The simplest way to interpret what this formula is doing is that its **Calculating the reverse of Conditional Probability.**\n",
    "\n",
    "But, we are interested in the **Diachronic Interpretation**, which means :- \n",
    "\n",
    "Given a hypothesis H, what is the probability \n",
    "\n",
    "    of the hypothesis *before* seeing some data P(H) and\n",
    "    \n",
    "What is the porbability \n",
    "    \n",
    "    of the hypothesis *after* seeing the data P(H|D)\n",
    "    \n",
    "    \n",
    "    H: hypothesis\n",
    "    D: Data"
   ]
  },
  {
   "cell_type": "markdown",
   "metadata": {},
   "source": [
    "##### Exercise 2\n",
    "\n",
    "Think of Hypothesis as a beleif that you would have. \n",
    "      \n",
    "      \"I beleive I would reach the station in 30 minutes.\"\n",
    " \n",
    "and think of data as an event that occured that made you alter your beleif.\n",
    "\n",
    "      \"Google maps says 15 minutes to the station.\"\n",
    " \n",
    " **Now fill the block below**"
   ]
  },
  {
   "cell_type": "markdown",
   "metadata": {},
   "source": [
    "Hypothesis: *Write your beleif Here*\n",
    "\n",
    "Data: *Event here*"
   ]
  },
  {
   "cell_type": "code",
   "execution_count": 18,
   "metadata": {
    "collapsed": true
   },
   "outputs": [],
   "source": [
    "## Discuss"
   ]
  },
  {
   "cell_type": "markdown",
   "metadata": {},
   "source": [
    "Lets come back to the dice, what should be our Problem Statement ?\n",
    "\n",
    "\"Given output of 10 dice rolls, what is the probability of getting a 4\""
   ]
  },
  {
   "cell_type": "code",
   "execution_count": null,
   "metadata": {},
   "outputs": [],
   "source": []
  }
 ],
 "metadata": {
  "anaconda-cloud": {},
  "kernelspec": {
   "display_name": "Python 3",
   "language": "python",
   "name": "python3"
  },
  "language_info": {
   "codemirror_mode": {
    "name": "ipython",
    "version": 3
   },
   "file_extension": ".py",
   "mimetype": "text/x-python",
   "name": "python",
   "nbconvert_exporter": "python",
   "pygments_lexer": "ipython3",
   "version": "3.6.1"
  },
  "nbpresent": {
   "slides": {
    "2572f1e8-615e-4a52-92bd-37537d28c4da": {
     "id": "2572f1e8-615e-4a52-92bd-37537d28c4da",
     "prev": "cff4b9b7-4747-49a6-ae68-b27296219ac7",
     "regions": {
      "c360eec2-c1c0-4272-bb13-4b4ce7785c01": {
       "attrs": {
        "height": 0.8,
        "width": 0.8,
        "x": 0.1,
        "y": 0.1
       },
       "content": {
        "cell": "35234389-a876-482c-8bf6-e414bc787371",
        "part": "whole"
       },
       "id": "c360eec2-c1c0-4272-bb13-4b4ce7785c01"
      }
     }
    },
    "2d8446ea-f383-48ba-9f79-3656fe0693bf": {
     "id": "2d8446ea-f383-48ba-9f79-3656fe0693bf",
     "prev": "33eabc41-a1bd-42a0-adcc-f26ae541755c",
     "regions": {
      "ac182d82-3f4f-4786-ad87-efb8c4538575": {
       "attrs": {
        "height": 0.8,
        "width": 0.8,
        "x": 0.1,
        "y": 0.1
       },
       "content": {
        "cell": "bc939df6-93bb-4b84-85b7-4c559ea1c0e9",
        "part": "whole"
       },
       "id": "ac182d82-3f4f-4786-ad87-efb8c4538575"
      }
     }
    },
    "33eabc41-a1bd-42a0-adcc-f26ae541755c": {
     "id": "33eabc41-a1bd-42a0-adcc-f26ae541755c",
     "prev": "b670b36d-0c61-4b1e-acbf-206071c1fbad",
     "regions": {
      "98508476-e1e8-4f94-b516-b4997b645b43": {
       "attrs": {
        "height": 0.8,
        "width": 0.8,
        "x": 0.1,
        "y": 0.1
       },
       "content": {
        "cell": "3f065922-0673-49c3-90d6-86dedeccd4ac",
        "part": "whole"
       },
       "id": "98508476-e1e8-4f94-b516-b4997b645b43"
      }
     }
    },
    "48932e14-4d03-4354-923e-e68bf9c4b5b1": {
     "id": "48932e14-4d03-4354-923e-e68bf9c4b5b1",
     "prev": "2572f1e8-615e-4a52-92bd-37537d28c4da",
     "regions": {
      "98d54d84-9560-4aa2-934b-77d2645c38c5": {
       "attrs": {
        "height": 0.8,
        "width": 0.8,
        "x": 0.1,
        "y": 0.1
       },
       "content": {
        "cell": "b795ad65-5933-4d7f-9fbf-8c2c6344b9fb",
        "part": "whole"
       },
       "id": "98d54d84-9560-4aa2-934b-77d2645c38c5"
      }
     }
    },
    "64cf384d-b77a-413a-bb1d-7881250f2beb": {
     "id": "64cf384d-b77a-413a-bb1d-7881250f2beb",
     "prev": "2d8446ea-f383-48ba-9f79-3656fe0693bf",
     "regions": {
      "ee5e68c8-a535-4ef3-a581-8750cce11173": {
       "attrs": {
        "height": 0.8,
        "width": 0.8,
        "x": 0.1,
        "y": 0.1
       },
       "content": {
        "cell": "388f77b8-6722-4e76-b700-07ba567fbf5d",
        "part": "whole"
       },
       "id": "ee5e68c8-a535-4ef3-a581-8750cce11173"
      }
     }
    },
    "905c65cf-a80c-4d18-9e44-64aab24ce527": {
     "id": "905c65cf-a80c-4d18-9e44-64aab24ce527",
     "prev": "ba7e4733-33a5-4d43-93dd-87ffda356e1b",
     "regions": {
      "cae9ad73-f9cf-4672-b740-c7ddfed24cde": {
       "attrs": {
        "height": 0.8,
        "width": 0.8,
        "x": 0.1,
        "y": 0.1
       },
       "content": {
        "cell": "c30cdd07-9d84-4419-bf48-f1fa70223b1a",
        "part": "whole"
       },
       "id": "cae9ad73-f9cf-4672-b740-c7ddfed24cde"
      }
     }
    },
    "a4ee9859-c8c3-403c-a297-673ed98e458e": {
     "id": "a4ee9859-c8c3-403c-a297-673ed98e458e",
     "prev": "d8357c95-0dd7-4783-8156-b8b512150cdf",
     "regions": {
      "66dca7dc-8dfa-4b55-9fe8-f8b145ee2939": {
       "attrs": {
        "height": 0.8,
        "width": 0.8,
        "x": 0.1,
        "y": 0.1
       },
       "content": {
        "cell": "2e922e6a-885c-4e3d-a5f6-0668f7c05a28",
        "part": "whole"
       },
       "id": "66dca7dc-8dfa-4b55-9fe8-f8b145ee2939"
      }
     }
    },
    "b670b36d-0c61-4b1e-acbf-206071c1fbad": {
     "id": "b670b36d-0c61-4b1e-acbf-206071c1fbad",
     "prev": "905c65cf-a80c-4d18-9e44-64aab24ce527",
     "regions": {
      "b483180a-327a-4019-8624-5fba9c98e1ec": {
       "attrs": {
        "height": 0.8,
        "width": 0.8,
        "x": 0.1,
        "y": 0.1
       },
       "content": {
        "cell": "6c327ea3-b495-45c7-a9b6-eea042d06ae3",
        "part": "whole"
       },
       "id": "b483180a-327a-4019-8624-5fba9c98e1ec"
      }
     }
    },
    "ba7e4733-33a5-4d43-93dd-87ffda356e1b": {
     "id": "ba7e4733-33a5-4d43-93dd-87ffda356e1b",
     "prev": "48932e14-4d03-4354-923e-e68bf9c4b5b1",
     "regions": {
      "7bc7e725-89b2-40af-a397-a3c2f06b5de8": {
       "attrs": {
        "height": 0.8,
        "width": 0.8,
        "x": 0.1,
        "y": 0.1
       },
       "content": {
        "cell": "a1f5d34e-351c-4327-b917-f5203d9205bb",
        "part": "whole"
       },
       "id": "7bc7e725-89b2-40af-a397-a3c2f06b5de8"
      }
     }
    },
    "cff4b9b7-4747-49a6-ae68-b27296219ac7": {
     "id": "cff4b9b7-4747-49a6-ae68-b27296219ac7",
     "prev": "a4ee9859-c8c3-403c-a297-673ed98e458e",
     "regions": {
      "b8e3db50-c5e8-4bfd-8ac9-d6f667622458": {
       "attrs": {
        "height": 0.8,
        "width": 0.8,
        "x": 0.1,
        "y": 0.1
       },
       "content": {
        "cell": "5e02b86c-d389-431b-a0fa-462e767a26fe",
        "part": "whole"
       },
       "id": "b8e3db50-c5e8-4bfd-8ac9-d6f667622458"
      }
     }
    },
    "d8357c95-0dd7-4783-8156-b8b512150cdf": {
     "id": "d8357c95-0dd7-4783-8156-b8b512150cdf",
     "prev": null,
     "regions": {
      "e0e1afba-1c8a-47ed-84ce-568aaf22e025": {
       "attrs": {
        "height": 0.8,
        "width": 0.8,
        "x": 0.1,
        "y": 0.1
       },
       "content": {
        "cell": "3f04c9b3-5286-43c8-aeb5-f9a7c971d28f",
        "part": "whole"
       },
       "id": "e0e1afba-1c8a-47ed-84ce-568aaf22e025"
      }
     }
    },
    "dfc58060-0675-426e-9334-9ec65edecd91": {
     "id": "dfc58060-0675-426e-9334-9ec65edecd91",
     "prev": "64cf384d-b77a-413a-bb1d-7881250f2beb",
     "regions": {
      "27c5fbba-176c-4ce2-80d0-1a0decbb7030": {
       "attrs": {
        "height": 0.8,
        "width": 0.8,
        "x": 0.1,
        "y": 0.1
       },
       "content": {
        "cell": "6740c2fe-e38a-4e7e-a349-a695ed717007",
        "part": "whole"
       },
       "id": "27c5fbba-176c-4ce2-80d0-1a0decbb7030"
      }
     }
    },
    "e5b1e7ee-3b67-4538-a60e-8877197644d9": {
     "id": "e5b1e7ee-3b67-4538-a60e-8877197644d9",
     "prev": "dfc58060-0675-426e-9334-9ec65edecd91",
     "regions": {
      "d66aa6f5-848d-436f-bf32-97eb7b6a80bd": {
       "attrs": {
        "height": 0.8,
        "width": 0.8,
        "x": 0.1,
        "y": 0.1
       },
       "content": {
        "cell": "89c342f7-3f8e-4a87-a8ee-5b0bba3539ab",
        "part": "whole"
       },
       "id": "d66aa6f5-848d-436f-bf32-97eb7b6a80bd"
      }
     }
    }
   },
   "themes": {}
  }
 },
 "nbformat": 4,
 "nbformat_minor": 1
}
